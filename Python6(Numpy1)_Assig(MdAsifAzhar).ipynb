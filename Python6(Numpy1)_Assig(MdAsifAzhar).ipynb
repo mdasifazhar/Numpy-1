{
 "cells": [
  {
   "cell_type": "markdown",
   "metadata": {},
   "source": [
    "###### Problem Statement 1:\n",
    "###### Write a function so that the columns of the output matrix are powers of the input vector.\n",
    "###### The order of the powers is determined by the increasing boolean argument. Specifically, when increasing is False, the i-th output column is the input vector raised element-wise to the power of N - i - 1."
   ]
  },
  {
   "cell_type": "code",
   "execution_count": 7,
   "metadata": {},
   "outputs": [],
   "source": [
    "class AlexandreTheophileVandermonde:\n",
    "    def generateVandermondeMatrix(self,vector,power,isPowerIncreasing):\n",
    "        vSize=vector.size\n",
    "        finalMatrix=np.empty((power,vSize),dtype=int)\n",
    "    \n",
    "        if isPowerIncreasing.upper()==\"TRUE\":\n",
    "            for i in range(power):\n",
    "                power_vector=np.array(np.power(vector,i))\n",
    "                finalMatrix[i]=power_vector\n",
    "        else:\n",
    "            for i in range(power-1,-1,-1):\n",
    "                power_vector=np.array(np.power(vector,i))\n",
    "                finalMatrix[(power-1)-i]=power_vector\n",
    "        return finalMatrix"
   ]
  },
  {
   "cell_type": "code",
   "execution_count": 10,
   "metadata": {},
   "outputs": [
    {
     "name": "stdout",
     "output_type": "stream",
     "text": [
      "********Create matrix with a geometric progression*********\n",
      "Enter vector element sepated by comma eg. 1,2,3 : 1,2,3,4\n",
      "Enter the power (N) on input vector : 4\n",
      "Input value list is :\n",
      "[1, 2, 3, 4]\n",
      "Input vector is :\n",
      "[1 2 3 4]\n",
      "Enter True or False for  increasing order of powers: true\n",
      "Vandermonde matrix:\n",
      "[[ 1  1  1  1]\n",
      " [ 1  2  4  8]\n",
      " [ 1  3  9 27]\n",
      " [ 1  4 16 64]]\n"
     ]
    }
   ],
   "source": [
    "import numpy as np\n",
    "class Test:\n",
    "    obj = AlexandreTheophileVandermonde()\n",
    "    print('********Create matrix with a geometric progression*********')\n",
    "\n",
    "    vector=input('Enter vector element sepated by comma eg. 1,2,3 : ' )\n",
    "\n",
    "    power=int(input('Enter the power (N) on input vector : '))\n",
    "\n",
    "    inputList=[int(x) for x in vector.split(',')]\n",
    "\n",
    "    print('Input value list is :')\n",
    "    print(inputList)\n",
    "\n",
    "    vector=np.array(inputList)\n",
    "    print('Input vector is :')\n",
    "    print(vector)\n",
    "\n",
    "    isPowerIncreasing=input(\"Enter True or False for  increasing order of powers: \")\n",
    "\n",
    "    result_array=obj.generateVandermondeMatrix(vector,power,isPowerIncreasing)\n",
    "    print('Vandermonde matrix:')\n",
    "    print(result_array.T)\n"
   ]
  },
  {
   "cell_type": "code",
   "execution_count": null,
   "metadata": {},
   "outputs": [],
   "source": []
  }
 ],
 "metadata": {
  "kernelspec": {
   "display_name": "Python 3",
   "language": "python",
   "name": "python3"
  },
  "language_info": {
   "codemirror_mode": {
    "name": "ipython",
    "version": 3
   },
   "file_extension": ".py",
   "mimetype": "text/x-python",
   "name": "python",
   "nbconvert_exporter": "python",
   "pygments_lexer": "ipython3",
   "version": "3.6.5"
  }
 },
 "nbformat": 4,
 "nbformat_minor": 2
}
